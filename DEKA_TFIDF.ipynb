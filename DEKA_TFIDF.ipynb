{
 "cells": [
  {
   "cell_type": "code",
   "execution_count": 35,
   "metadata": {},
   "outputs": [],
   "source": [
    "import re\n",
    "import requests\n",
    "import numpy as np\n",
    "import pandas as pd\n",
    "import matplotlib.pyplot as plt\n",
    "from nltk.corpus import stopwords\n",
    "from sklearn.metrics.pairwise import linear_kernel\n",
    "from sklearn.feature_extraction.text import TfidfVectorizer"
   ]
  },
  {
   "cell_type": "code",
   "execution_count": 67,
   "metadata": {},
   "outputs": [],
   "source": [
    "\n",
    "url = 'https://api.graph.cool/simple/v1/cj9inyrks2ssl0130yiv567ps'\n",
    "\n",
    "def run_query(query):\n",
    "    response = requests.post(url, json={'query': query})\n",
    "    if response.status_code == 200:\n",
    "        return response.json()\n",
    "    else:\n",
    "        raise Exception('query failed to returning code of {}. {}'.format(requests.status_code, query))\n",
    "        \n",
    "query = \"\"\"\n",
    "\n",
    "{\n",
    "    allListings {\n",
    "        id\n",
    "        latitude\n",
    "        longitude\n",
    "        description\n",
    "        airConditioning\n",
    "        furnished\n",
    "        generator\n",
    "        garden\n",
    "        boysQuarter\n",
    "        bedrooms\n",
    "        bathrooms\n",
    "        masterBedroom\n",
    "        price\n",
    "        parkingSpace\n",
    "        outdoorToilet\n",
    "        outdoorKitchen\n",
    "        waterTank\n",
    "        kitchen\n",
    "        guestToilet\n",
    "        swimmingPool\n",
    "                    locality {\n",
    "      name\n",
    "    }\n",
    "    }\n",
    "}\n",
    "\n",
    "\"\"\"\n",
    "\n",
    "result = run_query(query)\n",
    "df = result['data']['allListings']"
   ]
  },
  {
   "cell_type": "code",
   "execution_count": 71,
   "metadata": {},
   "outputs": [],
   "source": [
    "locality = [item['locality'] for item in df]"
   ]
  },
  {
   "cell_type": "code",
   "execution_count": 74,
   "metadata": {},
   "outputs": [
    {
     "data": {
      "text/html": [
       "<div>\n",
       "<style scoped>\n",
       "    .dataframe tbody tr th:only-of-type {\n",
       "        vertical-align: middle;\n",
       "    }\n",
       "\n",
       "    .dataframe tbody tr th {\n",
       "        vertical-align: top;\n",
       "    }\n",
       "\n",
       "    .dataframe thead th {\n",
       "        text-align: right;\n",
       "    }\n",
       "</style>\n",
       "<table border=\"1\" class=\"dataframe\">\n",
       "  <thead>\n",
       "    <tr style=\"text-align: right;\">\n",
       "      <th></th>\n",
       "      <th>airConditioning</th>\n",
       "      <th>bathrooms</th>\n",
       "      <th>bedrooms</th>\n",
       "      <th>boysQuarter</th>\n",
       "      <th>description</th>\n",
       "      <th>furnished</th>\n",
       "      <th>garden</th>\n",
       "      <th>generator</th>\n",
       "      <th>guestToilet</th>\n",
       "      <th>id</th>\n",
       "      <th>...</th>\n",
       "      <th>latitude</th>\n",
       "      <th>locality</th>\n",
       "      <th>longitude</th>\n",
       "      <th>masterBedroom</th>\n",
       "      <th>outdoorKitchen</th>\n",
       "      <th>outdoorToilet</th>\n",
       "      <th>parkingSpace</th>\n",
       "      <th>price</th>\n",
       "      <th>swimmingPool</th>\n",
       "      <th>waterTank</th>\n",
       "    </tr>\n",
       "  </thead>\n",
       "  <tbody>\n",
       "    <tr>\n",
       "      <th>0</th>\n",
       "      <td>False</td>\n",
       "      <td>2</td>\n",
       "      <td>3</td>\n",
       "      <td>False</td>\n",
       "      <td>3 Bedroom family apartment</td>\n",
       "      <td>False</td>\n",
       "      <td>False</td>\n",
       "      <td>False</td>\n",
       "      <td>False</td>\n",
       "      <td>cj9r9f7tj43kb0146v1y0hpu8</td>\n",
       "      <td>...</td>\n",
       "      <td>13.400521</td>\n",
       "      <td>{u'name': u'Brusubi 1st Phase'}</td>\n",
       "      <td>-16.731424</td>\n",
       "      <td>None</td>\n",
       "      <td>False</td>\n",
       "      <td>None</td>\n",
       "      <td>True</td>\n",
       "      <td>130000.0</td>\n",
       "      <td>False</td>\n",
       "      <td>False</td>\n",
       "    </tr>\n",
       "    <tr>\n",
       "      <th>1</th>\n",
       "      <td>False</td>\n",
       "      <td>3</td>\n",
       "      <td>3</td>\n",
       "      <td>True</td>\n",
       "      <td>Fully furnished apartment with 2 boys quarters...</td>\n",
       "      <td>True</td>\n",
       "      <td>True</td>\n",
       "      <td>False</td>\n",
       "      <td>True</td>\n",
       "      <td>cj9sol5i50xup016035eqkr82</td>\n",
       "      <td>...</td>\n",
       "      <td>13.398662</td>\n",
       "      <td>{u'name': u'Brusubi 1st Phase'}</td>\n",
       "      <td>-16.732842</td>\n",
       "      <td>None</td>\n",
       "      <td>True</td>\n",
       "      <td>None</td>\n",
       "      <td>True</td>\n",
       "      <td>400000.0</td>\n",
       "      <td>False</td>\n",
       "      <td>False</td>\n",
       "    </tr>\n",
       "    <tr>\n",
       "      <th>2</th>\n",
       "      <td>False</td>\n",
       "      <td>5</td>\n",
       "      <td>4</td>\n",
       "      <td>False</td>\n",
       "      <td>4 Bedroom Family Home at Kerr Serign</td>\n",
       "      <td>False</td>\n",
       "      <td>False</td>\n",
       "      <td>False</td>\n",
       "      <td>False</td>\n",
       "      <td>cj9swdc7b62eo0160cs4xluez</td>\n",
       "      <td>...</td>\n",
       "      <td>NaN</td>\n",
       "      <td>{u'name': u'Senegambia'}</td>\n",
       "      <td>NaN</td>\n",
       "      <td>None</td>\n",
       "      <td>False</td>\n",
       "      <td>None</td>\n",
       "      <td>True</td>\n",
       "      <td>4500000.0</td>\n",
       "      <td>False</td>\n",
       "      <td>False</td>\n",
       "    </tr>\n",
       "  </tbody>\n",
       "</table>\n",
       "<p>3 rows × 21 columns</p>\n",
       "</div>"
      ],
      "text/plain": [
       "   airConditioning  bathrooms  bedrooms  boysQuarter  \\\n",
       "0            False          2         3        False   \n",
       "1            False          3         3         True   \n",
       "2            False          5         4        False   \n",
       "\n",
       "                                         description  furnished  garden  \\\n",
       "0                         3 Bedroom family apartment      False   False   \n",
       "1  Fully furnished apartment with 2 boys quarters...       True    True   \n",
       "2               4 Bedroom Family Home at Kerr Serign      False   False   \n",
       "\n",
       "   generator  guestToilet                         id  ...   latitude  \\\n",
       "0      False        False  cj9r9f7tj43kb0146v1y0hpu8  ...  13.400521   \n",
       "1      False         True  cj9sol5i50xup016035eqkr82  ...  13.398662   \n",
       "2      False        False  cj9swdc7b62eo0160cs4xluez  ...        NaN   \n",
       "\n",
       "                          locality  longitude  masterBedroom outdoorKitchen  \\\n",
       "0  {u'name': u'Brusubi 1st Phase'} -16.731424           None          False   \n",
       "1  {u'name': u'Brusubi 1st Phase'} -16.732842           None           True   \n",
       "2         {u'name': u'Senegambia'}        NaN           None          False   \n",
       "\n",
       "   outdoorToilet parkingSpace      price  swimmingPool  waterTank  \n",
       "0           None         True   130000.0         False      False  \n",
       "1           None         True   400000.0         False      False  \n",
       "2           None         True  4500000.0         False      False  \n",
       "\n",
       "[3 rows x 21 columns]"
      ]
     },
     "execution_count": 74,
     "metadata": {},
     "output_type": "execute_result"
    }
   ],
   "source": [
    "df = pd.DataFrame(df)\n",
    "df.head(3)"
   ]
  },
  {
   "cell_type": "code",
   "execution_count": 75,
   "metadata": {},
   "outputs": [
    {
     "data": {
      "text/plain": [
       "(53, 21)"
      ]
     },
     "execution_count": 75,
     "metadata": {},
     "output_type": "execute_result"
    }
   ],
   "source": [
    "df.shape"
   ]
  },
  {
   "cell_type": "code",
   "execution_count": 91,
   "metadata": {},
   "outputs": [
    {
     "data": {
      "text/html": [
       "<div>\n",
       "<style scoped>\n",
       "    .dataframe tbody tr th:only-of-type {\n",
       "        vertical-align: middle;\n",
       "    }\n",
       "\n",
       "    .dataframe tbody tr th {\n",
       "        vertical-align: top;\n",
       "    }\n",
       "\n",
       "    .dataframe thead th {\n",
       "        text-align: right;\n",
       "    }\n",
       "</style>\n",
       "<table border=\"1\" class=\"dataframe\">\n",
       "  <thead>\n",
       "    <tr style=\"text-align: right;\">\n",
       "      <th></th>\n",
       "      <th>name</th>\n",
       "    </tr>\n",
       "  </thead>\n",
       "  <tbody>\n",
       "    <tr>\n",
       "      <th>0</th>\n",
       "      <td>Brusubi 1st Phase</td>\n",
       "    </tr>\n",
       "    <tr>\n",
       "      <th>1</th>\n",
       "      <td>Brusubi 1st Phase</td>\n",
       "    </tr>\n",
       "    <tr>\n",
       "      <th>2</th>\n",
       "      <td>Senegambia</td>\n",
       "    </tr>\n",
       "    <tr>\n",
       "      <th>3</th>\n",
       "      <td>Brufut</td>\n",
       "    </tr>\n",
       "    <tr>\n",
       "      <th>4</th>\n",
       "      <td>Kerr Serign</td>\n",
       "    </tr>\n",
       "  </tbody>\n",
       "</table>\n",
       "</div>"
      ],
      "text/plain": [
       "                name\n",
       "0  Brusubi 1st Phase\n",
       "1  Brusubi 1st Phase\n",
       "2         Senegambia\n",
       "3             Brufut\n",
       "4        Kerr Serign"
      ]
     },
     "execution_count": 91,
     "metadata": {},
     "output_type": "execute_result"
    }
   ],
   "source": [
    "loc_df = pd.DataFrame(locality, index=np.arange(df.shape[0]))\n",
    "loc_df.head()"
   ]
  },
  {
   "cell_type": "code",
   "execution_count": 78,
   "metadata": {},
   "outputs": [
    {
     "data": {
      "text/html": [
       "<div>\n",
       "<style scoped>\n",
       "    .dataframe tbody tr th:only-of-type {\n",
       "        vertical-align: middle;\n",
       "    }\n",
       "\n",
       "    .dataframe tbody tr th {\n",
       "        vertical-align: top;\n",
       "    }\n",
       "\n",
       "    .dataframe thead th {\n",
       "        text-align: right;\n",
       "    }\n",
       "</style>\n",
       "<table border=\"1\" class=\"dataframe\">\n",
       "  <thead>\n",
       "    <tr style=\"text-align: right;\">\n",
       "      <th></th>\n",
       "      <th>airConditioning</th>\n",
       "      <th>bathrooms</th>\n",
       "      <th>bedrooms</th>\n",
       "      <th>boysQuarter</th>\n",
       "      <th>description</th>\n",
       "      <th>furnished</th>\n",
       "      <th>garden</th>\n",
       "      <th>generator</th>\n",
       "      <th>guestToilet</th>\n",
       "      <th>id</th>\n",
       "      <th>...</th>\n",
       "      <th>locality</th>\n",
       "      <th>longitude</th>\n",
       "      <th>masterBedroom</th>\n",
       "      <th>outdoorKitchen</th>\n",
       "      <th>outdoorToilet</th>\n",
       "      <th>parkingSpace</th>\n",
       "      <th>price</th>\n",
       "      <th>swimmingPool</th>\n",
       "      <th>waterTank</th>\n",
       "      <th>name</th>\n",
       "    </tr>\n",
       "  </thead>\n",
       "  <tbody>\n",
       "    <tr>\n",
       "      <th>0</th>\n",
       "      <td>False</td>\n",
       "      <td>2</td>\n",
       "      <td>3</td>\n",
       "      <td>False</td>\n",
       "      <td>3 Bedroom family apartment</td>\n",
       "      <td>False</td>\n",
       "      <td>False</td>\n",
       "      <td>False</td>\n",
       "      <td>False</td>\n",
       "      <td>cj9r9f7tj43kb0146v1y0hpu8</td>\n",
       "      <td>...</td>\n",
       "      <td>{u'name': u'Brusubi 1st Phase'}</td>\n",
       "      <td>-16.731424</td>\n",
       "      <td>None</td>\n",
       "      <td>False</td>\n",
       "      <td>None</td>\n",
       "      <td>True</td>\n",
       "      <td>130000.0</td>\n",
       "      <td>False</td>\n",
       "      <td>False</td>\n",
       "      <td>Brusubi 1st Phase</td>\n",
       "    </tr>\n",
       "    <tr>\n",
       "      <th>1</th>\n",
       "      <td>False</td>\n",
       "      <td>3</td>\n",
       "      <td>3</td>\n",
       "      <td>True</td>\n",
       "      <td>Fully furnished apartment with 2 boys quarters...</td>\n",
       "      <td>True</td>\n",
       "      <td>True</td>\n",
       "      <td>False</td>\n",
       "      <td>True</td>\n",
       "      <td>cj9sol5i50xup016035eqkr82</td>\n",
       "      <td>...</td>\n",
       "      <td>{u'name': u'Brusubi 1st Phase'}</td>\n",
       "      <td>-16.732842</td>\n",
       "      <td>None</td>\n",
       "      <td>True</td>\n",
       "      <td>None</td>\n",
       "      <td>True</td>\n",
       "      <td>400000.0</td>\n",
       "      <td>False</td>\n",
       "      <td>False</td>\n",
       "      <td>Brusubi 1st Phase</td>\n",
       "    </tr>\n",
       "    <tr>\n",
       "      <th>2</th>\n",
       "      <td>False</td>\n",
       "      <td>5</td>\n",
       "      <td>4</td>\n",
       "      <td>False</td>\n",
       "      <td>4 Bedroom Family Home at Kerr Serign</td>\n",
       "      <td>False</td>\n",
       "      <td>False</td>\n",
       "      <td>False</td>\n",
       "      <td>False</td>\n",
       "      <td>cj9swdc7b62eo0160cs4xluez</td>\n",
       "      <td>...</td>\n",
       "      <td>{u'name': u'Senegambia'}</td>\n",
       "      <td>NaN</td>\n",
       "      <td>None</td>\n",
       "      <td>False</td>\n",
       "      <td>None</td>\n",
       "      <td>True</td>\n",
       "      <td>4500000.0</td>\n",
       "      <td>False</td>\n",
       "      <td>False</td>\n",
       "      <td>Senegambia</td>\n",
       "    </tr>\n",
       "  </tbody>\n",
       "</table>\n",
       "<p>3 rows × 22 columns</p>\n",
       "</div>"
      ],
      "text/plain": [
       "   airConditioning  bathrooms  bedrooms  boysQuarter  \\\n",
       "0            False          2         3        False   \n",
       "1            False          3         3         True   \n",
       "2            False          5         4        False   \n",
       "\n",
       "                                         description  furnished  garden  \\\n",
       "0                         3 Bedroom family apartment      False   False   \n",
       "1  Fully furnished apartment with 2 boys quarters...       True    True   \n",
       "2               4 Bedroom Family Home at Kerr Serign      False   False   \n",
       "\n",
       "   generator  guestToilet                         id  ...  \\\n",
       "0      False        False  cj9r9f7tj43kb0146v1y0hpu8  ...   \n",
       "1      False         True  cj9sol5i50xup016035eqkr82  ...   \n",
       "2      False        False  cj9swdc7b62eo0160cs4xluez  ...   \n",
       "\n",
       "                          locality  longitude masterBedroom  outdoorKitchen  \\\n",
       "0  {u'name': u'Brusubi 1st Phase'} -16.731424          None           False   \n",
       "1  {u'name': u'Brusubi 1st Phase'} -16.732842          None            True   \n",
       "2         {u'name': u'Senegambia'}        NaN          None           False   \n",
       "\n",
       "  outdoorToilet  parkingSpace      price  swimmingPool  waterTank  \\\n",
       "0          None          True   130000.0         False      False   \n",
       "1          None          True   400000.0         False      False   \n",
       "2          None          True  4500000.0         False      False   \n",
       "\n",
       "                name  \n",
       "0  Brusubi 1st Phase  \n",
       "1  Brusubi 1st Phase  \n",
       "2         Senegambia  \n",
       "\n",
       "[3 rows x 22 columns]"
      ]
     },
     "execution_count": 78,
     "metadata": {},
     "output_type": "execute_result"
    }
   ],
   "source": [
    "merged_df = pd.concat([df, loc_df], axis=1, join_axes=[df.index])\n",
    "merged_df.head(3)"
   ]
  },
  {
   "cell_type": "code",
   "execution_count": 47,
   "metadata": {},
   "outputs": [
    {
     "data": {
      "text/html": [
       "<div>\n",
       "<style scoped>\n",
       "    .dataframe tbody tr th:only-of-type {\n",
       "        vertical-align: middle;\n",
       "    }\n",
       "\n",
       "    .dataframe tbody tr th {\n",
       "        vertical-align: top;\n",
       "    }\n",
       "\n",
       "    .dataframe thead th {\n",
       "        text-align: right;\n",
       "    }\n",
       "</style>\n",
       "<table border=\"1\" class=\"dataframe\">\n",
       "  <thead>\n",
       "    <tr style=\"text-align: right;\">\n",
       "      <th></th>\n",
       "      <th>id</th>\n",
       "      <th>description</th>\n",
       "    </tr>\n",
       "  </thead>\n",
       "  <tbody>\n",
       "    <tr>\n",
       "      <th>0</th>\n",
       "      <td>cj9r9f7tj43kb0146v1y0hpu8</td>\n",
       "      <td>3 Bedroom family apartment</td>\n",
       "    </tr>\n",
       "    <tr>\n",
       "      <th>1</th>\n",
       "      <td>cj9sol5i50xup016035eqkr82</td>\n",
       "      <td>Fully furnished apartment with 2 boys quarters...</td>\n",
       "    </tr>\n",
       "    <tr>\n",
       "      <th>2</th>\n",
       "      <td>cj9swdc7b62eo0160cs4xluez</td>\n",
       "      <td>4 Bedroom Family Home at Kerr Serign</td>\n",
       "    </tr>\n",
       "  </tbody>\n",
       "</table>\n",
       "</div>"
      ],
      "text/plain": [
       "                          id  \\\n",
       "0  cj9r9f7tj43kb0146v1y0hpu8   \n",
       "1  cj9sol5i50xup016035eqkr82   \n",
       "2  cj9swdc7b62eo0160cs4xluez   \n",
       "\n",
       "                                         description  \n",
       "0                         3 Bedroom family apartment  \n",
       "1  Fully furnished apartment with 2 boys quarters...  \n",
       "2               4 Bedroom Family Home at Kerr Serign  "
      ]
     },
     "execution_count": 47,
     "metadata": {},
     "output_type": "execute_result"
    }
   ],
   "source": [
    "desc_data = df[['id','description']]\n",
    "desc_data.head(3)"
   ]
  },
  {
   "cell_type": "code",
   "execution_count": 48,
   "metadata": {},
   "outputs": [],
   "source": [
    "# get some listing descriptions\n",
    "def print_description(index):\n",
    "    example = desc_data[desc_data['id'] == index][['description']].values\n",
    "    if len(example) > 0:\n",
    "        print(example[0])"
   ]
  },
  {
   "cell_type": "code",
   "execution_count": 49,
   "metadata": {},
   "outputs": [
    {
     "name": "stdout",
     "output_type": "stream",
     "text": [
      "[u'Fully furnished holiday apartments, The property is 15 minutes walk to Senegambia beach. 24 hour watchman security and CCTV recording.  It provides accommodation with free WiFi, air conditioner ,individual living room and bedrooms ,safety deposit box, a flat-screen TV and a kitchenette. Bestway Supermarket in the same Building offering free grocery delivery.']\n"
     ]
    }
   ],
   "source": [
    "print_description('cjfmvdr6183si0193lmrat0wn')"
   ]
  },
  {
   "cell_type": "code",
   "execution_count": 50,
   "metadata": {},
   "outputs": [
    {
     "name": "stdout",
     "output_type": "stream",
     "text": [
      "('Number of description: ', 52, '\\nAverage word count', 13.692307692307692, '\\nMinimum word count', 2, '\\nMaximum word count', 52)\n"
     ]
    },
    {
     "name": "stderr",
     "output_type": "stream",
     "text": [
      "/home/ibrahim/miniconda2/lib/python2.7/site-packages/ipykernel_launcher.py:1: SettingWithCopyWarning: \n",
      "A value is trying to be set on a copy of a slice from a DataFrame.\n",
      "Try using .loc[row_indexer,col_indexer] = value instead\n",
      "\n",
      "See the caveats in the documentation: http://pandas.pydata.org/pandas-docs/stable/indexing.html#indexing-view-versus-copy\n",
      "  \"\"\"Entry point for launching an IPython kernel.\n"
     ]
    }
   ],
   "source": [
    "desc_data['word_count'] = desc_data['description'].apply(lambda x: len(str(x).split()))\n",
    "desc_lengths = list(desc_data['word_count'])\n",
    "\n",
    "print('Number of description: ', len(desc_lengths),\n",
    "     \"\\nAverage word count\", np.average(desc_lengths),\n",
    "     \"\\nMinimum word count\", min(desc_lengths),\n",
    "     \"\\nMaximum word count\", max(desc_lengths))"
   ]
  },
  {
   "cell_type": "code",
   "execution_count": 51,
   "metadata": {},
   "outputs": [
    {
     "data": {
      "text/html": [
       "<div>\n",
       "<style scoped>\n",
       "    .dataframe tbody tr th:only-of-type {\n",
       "        vertical-align: middle;\n",
       "    }\n",
       "\n",
       "    .dataframe tbody tr th {\n",
       "        vertical-align: top;\n",
       "    }\n",
       "\n",
       "    .dataframe thead th {\n",
       "        text-align: right;\n",
       "    }\n",
       "</style>\n",
       "<table border=\"1\" class=\"dataframe\">\n",
       "  <thead>\n",
       "    <tr style=\"text-align: right;\">\n",
       "      <th></th>\n",
       "      <th>id</th>\n",
       "      <th>description</th>\n",
       "      <th>word_count</th>\n",
       "    </tr>\n",
       "  </thead>\n",
       "  <tbody>\n",
       "    <tr>\n",
       "      <th>0</th>\n",
       "      <td>cj9r9f7tj43kb0146v1y0hpu8</td>\n",
       "      <td>3 Bedroom family apartment</td>\n",
       "      <td>4</td>\n",
       "    </tr>\n",
       "    <tr>\n",
       "      <th>1</th>\n",
       "      <td>cj9sol5i50xup016035eqkr82</td>\n",
       "      <td>Fully furnished apartment with 2 boys quarters...</td>\n",
       "      <td>29</td>\n",
       "    </tr>\n",
       "    <tr>\n",
       "      <th>2</th>\n",
       "      <td>cj9swdc7b62eo0160cs4xluez</td>\n",
       "      <td>4 Bedroom Family Home at Kerr Serign</td>\n",
       "      <td>7</td>\n",
       "    </tr>\n",
       "  </tbody>\n",
       "</table>\n",
       "</div>"
      ],
      "text/plain": [
       "                          id  \\\n",
       "0  cj9r9f7tj43kb0146v1y0hpu8   \n",
       "1  cj9sol5i50xup016035eqkr82   \n",
       "2  cj9swdc7b62eo0160cs4xluez   \n",
       "\n",
       "                                         description  word_count  \n",
       "0                         3 Bedroom family apartment           4  \n",
       "1  Fully furnished apartment with 2 boys quarters...          29  \n",
       "2               4 Bedroom Family Home at Kerr Serign           7  "
      ]
     },
     "execution_count": 51,
     "metadata": {},
     "output_type": "execute_result"
    }
   ],
   "source": [
    "desc_data.head(3)"
   ]
  },
  {
   "cell_type": "code",
   "execution_count": null,
   "metadata": {},
   "outputs": [],
   "source": []
  },
  {
   "cell_type": "code",
   "execution_count": 52,
   "metadata": {},
   "outputs": [
    {
     "name": "stderr",
     "output_type": "stream",
     "text": [
      "/home/ibrahim/miniconda2/lib/python2.7/site-packages/ipykernel_launcher.py:17: SettingWithCopyWarning: \n",
      "A value is trying to be set on a copy of a slice from a DataFrame.\n",
      "Try using .loc[row_indexer,col_indexer] = value instead\n",
      "\n",
      "See the caveats in the documentation: http://pandas.pydata.org/pandas-docs/stable/indexing.html#indexing-view-versus-copy\n"
     ]
    }
   ],
   "source": [
    "REPLACE_BY_SPACE_RE = re.compile('[/(){}\\[\\]|@,;:.]')\n",
    "BAD_SYMBOLS_RE = re.compile('[^0-9a-z #+_]')\n",
    "STOPWORDS = set(stopwords.words('english'))\n",
    "\n",
    "def clean_text(text):\n",
    "    \"\"\"\n",
    "        text: a string\n",
    "        \n",
    "        return: modified initial string\n",
    "    \"\"\"\n",
    "    text = text.lower()\n",
    "    text = REPLACE_BY_SPACE_RE.sub(' ', text)\n",
    "    text = BAD_SYMBOLS_RE.sub('', text)\n",
    "    text = ' '.join(word for word in text.split() if word not in STOPWORDS)\n",
    "    return text\n",
    "\n",
    "desc_data['desc_clean'] = desc_data['description'].apply(clean_text)"
   ]
  },
  {
   "cell_type": "code",
   "execution_count": 64,
   "metadata": {},
   "outputs": [
    {
     "name": "stdout",
     "output_type": "stream",
     "text": [
      "('Number of description after removing stopwords: ', 52, '\\nAverage word count', 10.115384615384615, '\\nMinimum word count', 2, '\\nMaximum word count', 39)\n"
     ]
    }
   ],
   "source": [
    "clean_desc_len = desc_data['desc_clean'].apply(lambda x: len(str(x).split()))\n",
    "desc_lengths = list(clean_desc_len)\n",
    "\n",
    "print('Number of description after removing stopwords: ', len(desc_lengths),\n",
    "     \"\\nAverage word count\", np.average(desc_lengths),\n",
    "     \"\\nMinimum word count\", min(desc_lengths),\n",
    "     \"\\nMaximum word count\", max(desc_lengths))"
   ]
  },
  {
   "cell_type": "code",
   "execution_count": 56,
   "metadata": {},
   "outputs": [
    {
     "data": {
      "text/html": [
       "<div>\n",
       "<style scoped>\n",
       "    .dataframe tbody tr th:only-of-type {\n",
       "        vertical-align: middle;\n",
       "    }\n",
       "\n",
       "    .dataframe tbody tr th {\n",
       "        vertical-align: top;\n",
       "    }\n",
       "\n",
       "    .dataframe thead th {\n",
       "        text-align: right;\n",
       "    }\n",
       "</style>\n",
       "<table border=\"1\" class=\"dataframe\">\n",
       "  <thead>\n",
       "    <tr style=\"text-align: right;\">\n",
       "      <th></th>\n",
       "      <th>id</th>\n",
       "      <th>description</th>\n",
       "      <th>word_count</th>\n",
       "      <th>desc_clean</th>\n",
       "    </tr>\n",
       "  </thead>\n",
       "  <tbody>\n",
       "    <tr>\n",
       "      <th>0</th>\n",
       "      <td>cj9r9f7tj43kb0146v1y0hpu8</td>\n",
       "      <td>3 Bedroom family apartment</td>\n",
       "      <td>4</td>\n",
       "      <td>3 bedroom family apartment</td>\n",
       "    </tr>\n",
       "    <tr>\n",
       "      <th>1</th>\n",
       "      <td>cj9sol5i50xup016035eqkr82</td>\n",
       "      <td>Fully furnished apartment with 2 boys quarters...</td>\n",
       "      <td>29</td>\n",
       "      <td>fully furnished apartment 2 boys quarters outd...</td>\n",
       "    </tr>\n",
       "    <tr>\n",
       "      <th>2</th>\n",
       "      <td>cj9swdc7b62eo0160cs4xluez</td>\n",
       "      <td>4 Bedroom Family Home at Kerr Serign</td>\n",
       "      <td>7</td>\n",
       "      <td>4 bedroom family home kerr serign</td>\n",
       "    </tr>\n",
       "    <tr>\n",
       "      <th>3</th>\n",
       "      <td>cj9swsow968mg0131kaw103ld</td>\n",
       "      <td>Fully Furnished Story Building at Brufut</td>\n",
       "      <td>6</td>\n",
       "      <td>fully furnished story building brufut</td>\n",
       "    </tr>\n",
       "    <tr>\n",
       "      <th>4</th>\n",
       "      <td>cj9twpvt2zjxr0131obez74wf</td>\n",
       "      <td>Fully furnished family house with a  boys quarter</td>\n",
       "      <td>8</td>\n",
       "      <td>fully furnished family house boys quarter</td>\n",
       "    </tr>\n",
       "  </tbody>\n",
       "</table>\n",
       "</div>"
      ],
      "text/plain": [
       "                          id  \\\n",
       "0  cj9r9f7tj43kb0146v1y0hpu8   \n",
       "1  cj9sol5i50xup016035eqkr82   \n",
       "2  cj9swdc7b62eo0160cs4xluez   \n",
       "3  cj9swsow968mg0131kaw103ld   \n",
       "4  cj9twpvt2zjxr0131obez74wf   \n",
       "\n",
       "                                         description  word_count  \\\n",
       "0                         3 Bedroom family apartment           4   \n",
       "1  Fully furnished apartment with 2 boys quarters...          29   \n",
       "2               4 Bedroom Family Home at Kerr Serign           7   \n",
       "3           Fully Furnished Story Building at Brufut           6   \n",
       "4  Fully furnished family house with a  boys quarter           8   \n",
       "\n",
       "                                          desc_clean  \n",
       "0                         3 bedroom family apartment  \n",
       "1  fully furnished apartment 2 boys quarters outd...  \n",
       "2                  4 bedroom family home kerr serign  \n",
       "3              fully furnished story building brufut  \n",
       "4          fully furnished family house boys quarter  "
      ]
     },
     "execution_count": 56,
     "metadata": {},
     "output_type": "execute_result"
    }
   ],
   "source": [
    "desc_data.head()"
   ]
  },
  {
   "cell_type": "code",
   "execution_count": null,
   "metadata": {},
   "outputs": [],
   "source": []
  },
  {
   "cell_type": "code",
   "execution_count": 57,
   "metadata": {},
   "outputs": [],
   "source": [
    "desc_data.set_index('id', inplace=True)"
   ]
  },
  {
   "cell_type": "code",
   "execution_count": 58,
   "metadata": {},
   "outputs": [],
   "source": [
    "from sklearn.feature_extraction.text import TfidfVectorizer\n",
    "from sklearn.metrics.pairwise import linear_kernel\n",
    "\n",
    "tf = TfidfVectorizer(analyzer='word', ngram_range=(1,3), min_df=0, stop_words='english')\n",
    "tfidf_matrix = tf.fit_transform(desc_data['desc_clean'])\n",
    "nearest_neighbor = linear_kernel(tfidf_matrix, tfidf_matrix)"
   ]
  },
  {
   "cell_type": "code",
   "execution_count": 59,
   "metadata": {},
   "outputs": [
    {
     "data": {
      "text/plain": [
       "array([1.        , 0.02834846, 0.20095491, 0.        , 0.0438758 ,\n",
       "       0.05130807, 0.34138789, 0.04519449, 0.0340132 , 0.0340132 ,\n",
       "       0.04118579, 0.03599456, 0.02195866, 0.07004802, 0.07450596,\n",
       "       0.        , 0.06220179, 0.02283558, 0.02049754, 0.02927362,\n",
       "       0.04746582, 0.        , 0.03612593, 0.02776683, 0.02776683,\n",
       "       0.        , 0.        , 0.11801371, 0.03962135, 0.02412847,\n",
       "       0.03962135, 0.11931871, 0.03418674, 0.0569805 , 0.        ,\n",
       "       0.02294021, 0.0465788 , 0.0215954 , 0.04827048, 0.02112997,\n",
       "       0.06701631, 0.02015945, 0.03049313, 0.04643726, 0.02352901,\n",
       "       0.05811798, 0.02782429, 0.03890286, 0.02212763, 0.        ,\n",
       "       0.04295338, 0.03701115])"
      ]
     },
     "execution_count": 59,
     "metadata": {},
     "output_type": "execute_result"
    }
   ],
   "source": [
    "nearest_neighbor[0]"
   ]
  },
  {
   "cell_type": "code",
   "execution_count": 60,
   "metadata": {},
   "outputs": [],
   "source": [
    "indices = pd.Series(desc_data.index)"
   ]
  },
  {
   "cell_type": "code",
   "execution_count": 80,
   "metadata": {},
   "outputs": [],
   "source": [
    "def recommend(id_, nearest_neighbor = nearest_neighbor):\n",
    "    \n",
    "    similar_listing_id = []\n",
    "    \n",
    "    idx = indices[indices == id_].index[0]\n",
    "    \n",
    "    score_series = pd.Series(nearest_neighbor[idx]).sort_values(ascending=False)\n",
    "    \n",
    "    top_10_listings = list(score_series.iloc[1:21].index)\n",
    "    \n",
    "    for i in top_10_listings:\n",
    "        similar_listing_id.append(list(desc_data['desc_clean'])[i])\n",
    "        \n",
    "    return similar_listing_id\n"
   ]
  },
  {
   "cell_type": "code",
   "execution_count": 81,
   "metadata": {},
   "outputs": [
    {
     "data": {
      "text/plain": [
       "[u'fully furnished family apartment',\n",
       " u'4 bedroom family home kerr serign',\n",
       " u'3 bedroom family complex master bedroom boys quarter well borehole beautiful garden solar panel property land dimension 30m x 50m',\n",
       " u'beautiful 7 bedroom family complex 3 unfinished bedrooms upstairs separate staircase back possibility make 2 apartments',\n",
       " u'beautiful family home 3 bedroom 2 bathrooms parking space',\n",
       " u'large family complex apartment 6 master bedrooms',\n",
       " u'luxurious apartment 1 bedroom 1 bathroom beautiful garden',\n",
       " u'beautiful family complex 3 bedrooms',\n",
       " u'fully furnished holiday apartment 1 bedroom swimming pool parking space',\n",
       " u'fully furnished family complex 6 bedrooms',\n",
       " u'nice family house apartment nice garden generator room',\n",
       " u'move gorgeous 2 bedroom 2 bathroom apartment ample street parking safe neighborhood',\n",
       " u'fully furnished holiday apartment',\n",
       " u'1 bedroom luxury apartment located kotu west air condition wifi parking space',\n",
       " u'gorgeous apartment 3 bedrooms',\n",
       " u'large family house guest toilet',\n",
       " u'fully furnished family house boys quarter',\n",
       " u'newly built 3 bedroom semidetached bungalow',\n",
       " u'beautiful apartment large front yard apartment cash power meter',\n",
       " u'1 bedroom luxury apartment located kotu layout near palma rima beach close top notch restaurants gym supermarkets']"
      ]
     },
     "execution_count": 81,
     "metadata": {},
     "output_type": "execute_result"
    }
   ],
   "source": [
    "recommend('cj9r9f7tj43kb0146v1y0hpu8')"
   ]
  },
  {
   "cell_type": "code",
   "execution_count": null,
   "metadata": {},
   "outputs": [],
   "source": []
  },
  {
   "cell_type": "markdown",
   "metadata": {},
   "source": [
    "1. read in data and set_index to id\n",
    "2. clean\n",
    "3. normalize numeric values\n",
    "4. reduce dimension\n",
    "5. calculate similarity\n",
    "6. read in nn with index as id\n",
    "7. sort values in descending order\n",
    "8. "
   ]
  },
  {
   "cell_type": "code",
   "execution_count": null,
   "metadata": {},
   "outputs": [],
   "source": []
  },
  {
   "cell_type": "code",
   "execution_count": null,
   "metadata": {},
   "outputs": [],
   "source": []
  },
  {
   "cell_type": "code",
   "execution_count": null,
   "metadata": {},
   "outputs": [],
   "source": []
  },
  {
   "cell_type": "code",
   "execution_count": null,
   "metadata": {},
   "outputs": [],
   "source": []
  },
  {
   "cell_type": "code",
   "execution_count": null,
   "metadata": {},
   "outputs": [],
   "source": []
  }
 ],
 "metadata": {
  "kernelspec": {
   "display_name": "Python 3",
   "language": "python",
   "name": "python3"
  },
  "language_info": {
   "codemirror_mode": {
    "name": "ipython",
    "version": 2
   },
   "file_extension": ".py",
   "mimetype": "text/x-python",
   "name": "python",
   "nbconvert_exporter": "python",
   "pygments_lexer": "ipython2",
   "version": "2.7.16"
  }
 },
 "nbformat": 4,
 "nbformat_minor": 2
}
